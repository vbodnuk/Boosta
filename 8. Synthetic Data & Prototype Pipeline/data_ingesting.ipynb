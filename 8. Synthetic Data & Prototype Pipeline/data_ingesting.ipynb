{
  "cells": [
    {
      "cell_type": "code",
      "id": "uKNhO6NaQl8ZxjHR1pF3qV8n",
      "metadata": {
        "tags": [],
        "id": "uKNhO6NaQl8ZxjHR1pF3qV8n"
      },
      "source": [
        "import pandas as pd\n",
        "from google.cloud import storage\n",
        "from google.cloud import bigquery\n",
        "import json\n",
        "import re\n",
        "\n",
        "\n",
        "storage_client = storage.Client()\n",
        "bq_client = bigquery.Client()\n",
        "\n",
        "bucket = storage_client.bucket('boosta-task')\n",
        "\n",
        "blobs = bucket.list_blobs(prefix='')\n",
        "\n",
        "for blob in blobs:\n",
        "  if blob.name.endswith('.json'):\n",
        "    file_name = blob.name.split('/')[-1].replace('.json', '')\n",
        "    match = re.match(r'^([a-zA-Z0-9]+_[a-zA-Z0-9]+)', file_name)\n",
        "    if match:\n",
        "      tablename = match.group(1)\n",
        "    content = blob.download_as_text()\n",
        "    data = json.loads(content)['data']['2024-06']\n",
        "    df = pd.DataFrame(data)\n",
        "    table_id = f'crack-node-462719-n0.raw_layer.{tablename}'\n",
        "    job = bq_client.load_table_from_dataframe(df, table_id, job_config=bigquery.LoadJobConfig(write_disposition=\"WRITE_TRUNCATE\"))\n",
        "    job.result()\n",
        "\n"
      ],
      "execution_count": null,
      "outputs": []
    }
  ],
  "metadata": {
    "kernelspec": {
      "display_name": "Python 3",
      "language": "python",
      "name": "python3"
    },
    "language_info": {
      "codemirror_mode": {
        "name": "ipython",
        "version": 3
      },
      "file_extension": ".py",
      "mimetype": "text/x-python",
      "name": "python",
      "nbconvert_exporter": "python",
      "pygments_lexer": "ipython3",
      "version": "3.10.10"
    },
    "colab": {
      "provenance": [],
      "name": "data_ingesting"
    }
  },
  "nbformat": 4,
  "nbformat_minor": 5
}